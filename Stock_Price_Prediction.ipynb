{
 "cells": [
  {
   "cell_type": "markdown",
   "id": "bdd7f590-6805-463f-8a6b-7c8782b96074",
   "metadata": {},
   "source": [
    "# Stock_Price_Prediction ML Model"
   ]
  },
  {
   "cell_type": "markdown",
   "id": "ec518794-93c7-420b-a9e5-1f5ed286e66c",
   "metadata": {},
   "source": [
    "# "
   ]
  },
  {
   "cell_type": "markdown",
   "id": "3266fcaa-ecad-404b-b091-cff299e7c7a4",
   "metadata": {},
   "source": [
    "## 1. IMPORTING PACKAGES AND DATA SET"
   ]
  },
  {
   "cell_type": "markdown",
   "id": "9e3e0043-70d3-4c3d-9d52-359827c85137",
   "metadata": {},
   "source": [
    "#####"
   ]
  },
  {
   "cell_type": "code",
   "execution_count": 1,
   "id": "ffa56ff0-85d9-4613-badb-1f9c423da147",
   "metadata": {},
   "outputs": [],
   "source": [
    "import numpy as np\n",
    "import pandas as pd\n",
    "import matplotlib.pyplot as plt"
   ]
  },
  {
   "cell_type": "markdown",
   "id": "12dd1bd7-9cd7-49b7-9c35-807929d0d1e0",
   "metadata": {},
   "source": [
    "#"
   ]
  },
  {
   "cell_type": "code",
   "execution_count": 2,
   "id": "f7380cf8-d1a4-46e0-85d5-de38cc513678",
   "metadata": {},
   "outputs": [
    {
     "data": {
      "text/html": [
       "<div>\n",
       "<style scoped>\n",
       "    .dataframe tbody tr th:only-of-type {\n",
       "        vertical-align: middle;\n",
       "    }\n",
       "\n",
       "    .dataframe tbody tr th {\n",
       "        vertical-align: top;\n",
       "    }\n",
       "\n",
       "    .dataframe thead th {\n",
       "        text-align: right;\n",
       "    }\n",
       "</style>\n",
       "<table border=\"1\" class=\"dataframe\">\n",
       "  <thead>\n",
       "    <tr style=\"text-align: right;\">\n",
       "      <th></th>\n",
       "      <th>Date</th>\n",
       "      <th>Open</th>\n",
       "      <th>High</th>\n",
       "      <th>Low</th>\n",
       "      <th>Close</th>\n",
       "      <th>Adj Close</th>\n",
       "      <th>Volume</th>\n",
       "    </tr>\n",
       "  </thead>\n",
       "  <tbody>\n",
       "    <tr>\n",
       "      <th>0</th>\n",
       "      <td>2018-02-05</td>\n",
       "      <td>262.000000</td>\n",
       "      <td>267.899994</td>\n",
       "      <td>250.029999</td>\n",
       "      <td>254.259995</td>\n",
       "      <td>254.259995</td>\n",
       "      <td>11896100</td>\n",
       "    </tr>\n",
       "    <tr>\n",
       "      <th>1</th>\n",
       "      <td>2018-02-06</td>\n",
       "      <td>247.699997</td>\n",
       "      <td>266.700012</td>\n",
       "      <td>245.000000</td>\n",
       "      <td>265.720001</td>\n",
       "      <td>265.720001</td>\n",
       "      <td>12595800</td>\n",
       "    </tr>\n",
       "    <tr>\n",
       "      <th>2</th>\n",
       "      <td>2018-02-07</td>\n",
       "      <td>266.579987</td>\n",
       "      <td>272.450012</td>\n",
       "      <td>264.329987</td>\n",
       "      <td>264.559998</td>\n",
       "      <td>264.559998</td>\n",
       "      <td>8981500</td>\n",
       "    </tr>\n",
       "    <tr>\n",
       "      <th>3</th>\n",
       "      <td>2018-02-08</td>\n",
       "      <td>267.079987</td>\n",
       "      <td>267.619995</td>\n",
       "      <td>250.000000</td>\n",
       "      <td>250.100006</td>\n",
       "      <td>250.100006</td>\n",
       "      <td>9306700</td>\n",
       "    </tr>\n",
       "    <tr>\n",
       "      <th>4</th>\n",
       "      <td>2018-02-09</td>\n",
       "      <td>253.850006</td>\n",
       "      <td>255.800003</td>\n",
       "      <td>236.110001</td>\n",
       "      <td>249.470001</td>\n",
       "      <td>249.470001</td>\n",
       "      <td>16906900</td>\n",
       "    </tr>\n",
       "  </tbody>\n",
       "</table>\n",
       "</div>"
      ],
      "text/plain": [
       "        Date        Open        High         Low       Close   Adj Close  \\\n",
       "0 2018-02-05  262.000000  267.899994  250.029999  254.259995  254.259995   \n",
       "1 2018-02-06  247.699997  266.700012  245.000000  265.720001  265.720001   \n",
       "2 2018-02-07  266.579987  272.450012  264.329987  264.559998  264.559998   \n",
       "3 2018-02-08  267.079987  267.619995  250.000000  250.100006  250.100006   \n",
       "4 2018-02-09  253.850006  255.800003  236.110001  249.470001  249.470001   \n",
       "\n",
       "     Volume  \n",
       "0  11896100  \n",
       "1  12595800  \n",
       "2   8981500  \n",
       "3   9306700  \n",
       "4  16906900  "
      ]
     },
     "execution_count": 2,
     "metadata": {},
     "output_type": "execute_result"
    }
   ],
   "source": [
    "#Storing the path of the dataset and read it using pandas dataframe\n",
    "data_set_path=r\"D:\\Notes internship\\Minor Project Data set (Stock Price Prediction) (1).xlsx\"\n",
    "data_set=pd.read_excel(data_set_path)\n",
    "data_set.head()"
   ]
  },
  {
   "cell_type": "code",
   "execution_count": 3,
   "id": "bc157bfa-6807-42ce-8c14-4b4add1e26f0",
   "metadata": {},
   "outputs": [
    {
     "data": {
      "text/plain": [
       "(1009, 7)"
      ]
     },
     "execution_count": 3,
     "metadata": {},
     "output_type": "execute_result"
    }
   ],
   "source": [
    "#Shape of the data_set(rows,columns)\n",
    "data_set.shape"
   ]
  },
  {
   "cell_type": "code",
   "execution_count": 4,
   "id": "02672e20-d3b3-4bab-8322-eafdd8728edb",
   "metadata": {},
   "outputs": [
    {
     "data": {
      "text/plain": [
       "Date         datetime64[ns]\n",
       "Open                float64\n",
       "High                float64\n",
       "Low                 float64\n",
       "Close               float64\n",
       "Adj Close           float64\n",
       "Volume                int64\n",
       "dtype: object"
      ]
     },
     "execution_count": 4,
     "metadata": {},
     "output_type": "execute_result"
    }
   ],
   "source": [
    "#DataTypes of the Columns \n",
    "data_set.dtypes"
   ]
  },
  {
   "cell_type": "markdown",
   "id": "795decd4-9ec5-40ea-88fd-66e9c1078dd3",
   "metadata": {},
   "source": [
    "####"
   ]
  },
  {
   "cell_type": "markdown",
   "id": "3373692a-8486-470a-9e0d-6380914e6bd8",
   "metadata": {},
   "source": [
    "## 2. DATA CLEANING"
   ]
  },
  {
   "cell_type": "markdown",
   "id": "d23a11eb-8bfb-4676-8555-14e7ae1725e0",
   "metadata": {},
   "source": [
    "### Checking for Missing Values"
   ]
  },
  {
   "cell_type": "markdown",
   "id": "6324ce65-91ff-4996-9c4c-aeaabd5fb8cc",
   "metadata": {},
   "source": [
    "####"
   ]
  },
  {
   "cell_type": "code",
   "execution_count": 5,
   "id": "1796f5fd-00b8-4a54-ba88-7b1c759747f2",
   "metadata": {},
   "outputs": [
    {
     "data": {
      "text/plain": [
       "Date         0\n",
       "Open         0\n",
       "High         0\n",
       "Low          0\n",
       "Close        0\n",
       "Adj Close    0\n",
       "Volume       0\n",
       "dtype: int64"
      ]
     },
     "execution_count": 5,
     "metadata": {},
     "output_type": "execute_result"
    }
   ],
   "source": [
    "#checking missing values using isna() and sum() functions\n",
    "data_set.isna().sum()"
   ]
  },
  {
   "cell_type": "markdown",
   "id": "51912981-7969-4553-967e-1fe6a775f874",
   "metadata": {},
   "source": [
    "####"
   ]
  },
  {
   "cell_type": "markdown",
   "id": "a51ddd8f-93ad-4294-b37a-0315de0de486",
   "metadata": {},
   "source": [
    "### Checking for Duplicate Values"
   ]
  },
  {
   "cell_type": "markdown",
   "id": "5db0f35a-25c4-41c7-9e3a-c7328007e66f",
   "metadata": {},
   "source": [
    "#####"
   ]
  },
  {
   "cell_type": "code",
   "execution_count": 6,
   "id": "8417f39c-a890-42a9-94a4-4865bbd7de3f",
   "metadata": {},
   "outputs": [
    {
     "data": {
      "text/plain": [
       "0"
      ]
     },
     "execution_count": 6,
     "metadata": {},
     "output_type": "execute_result"
    }
   ],
   "source": [
    "#Duplicates are cheched using duplicated() function and sum() functions\n",
    "data_set.duplicated().sum()"
   ]
  },
  {
   "cell_type": "markdown",
   "id": "b6c8518d-2d25-41e2-8ccb-360c9549919a",
   "metadata": {},
   "source": [
    "#"
   ]
  },
  {
   "cell_type": "markdown",
   "id": "0039b924-e698-4bc5-a98c-b5dd50ed1e76",
   "metadata": {},
   "source": [
    "## 3. DATA UNDERSTANDING"
   ]
  },
  {
   "cell_type": "markdown",
   "id": "3397acbf-8a3b-4b93-b5b9-696001a7dff3",
   "metadata": {},
   "source": [
    "#####"
   ]
  },
  {
   "cell_type": "code",
   "execution_count": 7,
   "id": "09b0448c-e5e1-4de8-8a48-068f2e738d9e",
   "metadata": {},
   "outputs": [
    {
     "data": {
      "text/html": [
       "<div>\n",
       "<style scoped>\n",
       "    .dataframe tbody tr th:only-of-type {\n",
       "        vertical-align: middle;\n",
       "    }\n",
       "\n",
       "    .dataframe tbody tr th {\n",
       "        vertical-align: top;\n",
       "    }\n",
       "\n",
       "    .dataframe thead th {\n",
       "        text-align: right;\n",
       "    }\n",
       "</style>\n",
       "<table border=\"1\" class=\"dataframe\">\n",
       "  <thead>\n",
       "    <tr style=\"text-align: right;\">\n",
       "      <th></th>\n",
       "      <th>Date</th>\n",
       "      <th>Open</th>\n",
       "      <th>High</th>\n",
       "      <th>Low</th>\n",
       "      <th>Close</th>\n",
       "      <th>Adj Close</th>\n",
       "      <th>Volume</th>\n",
       "    </tr>\n",
       "  </thead>\n",
       "  <tbody>\n",
       "    <tr>\n",
       "      <th>0</th>\n",
       "      <td>2018-02-05</td>\n",
       "      <td>262.000000</td>\n",
       "      <td>267.899994</td>\n",
       "      <td>250.029999</td>\n",
       "      <td>254.259995</td>\n",
       "      <td>254.259995</td>\n",
       "      <td>11896100</td>\n",
       "    </tr>\n",
       "    <tr>\n",
       "      <th>1</th>\n",
       "      <td>2018-02-06</td>\n",
       "      <td>247.699997</td>\n",
       "      <td>266.700012</td>\n",
       "      <td>245.000000</td>\n",
       "      <td>265.720001</td>\n",
       "      <td>265.720001</td>\n",
       "      <td>12595800</td>\n",
       "    </tr>\n",
       "    <tr>\n",
       "      <th>2</th>\n",
       "      <td>2018-02-07</td>\n",
       "      <td>266.579987</td>\n",
       "      <td>272.450012</td>\n",
       "      <td>264.329987</td>\n",
       "      <td>264.559998</td>\n",
       "      <td>264.559998</td>\n",
       "      <td>8981500</td>\n",
       "    </tr>\n",
       "    <tr>\n",
       "      <th>3</th>\n",
       "      <td>2018-02-08</td>\n",
       "      <td>267.079987</td>\n",
       "      <td>267.619995</td>\n",
       "      <td>250.000000</td>\n",
       "      <td>250.100006</td>\n",
       "      <td>250.100006</td>\n",
       "      <td>9306700</td>\n",
       "    </tr>\n",
       "    <tr>\n",
       "      <th>4</th>\n",
       "      <td>2018-02-09</td>\n",
       "      <td>253.850006</td>\n",
       "      <td>255.800003</td>\n",
       "      <td>236.110001</td>\n",
       "      <td>249.470001</td>\n",
       "      <td>249.470001</td>\n",
       "      <td>16906900</td>\n",
       "    </tr>\n",
       "  </tbody>\n",
       "</table>\n",
       "</div>"
      ],
      "text/plain": [
       "        Date        Open        High         Low       Close   Adj Close  \\\n",
       "0 2018-02-05  262.000000  267.899994  250.029999  254.259995  254.259995   \n",
       "1 2018-02-06  247.699997  266.700012  245.000000  265.720001  265.720001   \n",
       "2 2018-02-07  266.579987  272.450012  264.329987  264.559998  264.559998   \n",
       "3 2018-02-08  267.079987  267.619995  250.000000  250.100006  250.100006   \n",
       "4 2018-02-09  253.850006  255.800003  236.110001  249.470001  249.470001   \n",
       "\n",
       "     Volume  \n",
       "0  11896100  \n",
       "1  12595800  \n",
       "2   8981500  \n",
       "3   9306700  \n",
       "4  16906900  "
      ]
     },
     "execution_count": 7,
     "metadata": {},
     "output_type": "execute_result"
    }
   ],
   "source": [
    "data_set.head()"
   ]
  },
  {
   "cell_type": "code",
   "execution_count": 8,
   "id": "4fce6174-85bd-4686-a5a2-28e51fb60565",
   "metadata": {},
   "outputs": [
    {
     "data": {
      "text/plain": [
       "Index(['Date', 'Open', 'High', 'Low', 'Close', 'Adj Close', 'Volume'], dtype='object')"
      ]
     },
     "execution_count": 8,
     "metadata": {},
     "output_type": "execute_result"
    }
   ],
   "source": [
    "#This returns the all the colummn index as an array\n",
    "data_set.columns"
   ]
  },
  {
   "cell_type": "code",
   "execution_count": 9,
   "id": "715b19f1-6c5c-4984-bf34-6ec0866016d6",
   "metadata": {},
   "outputs": [
    {
     "data": {
      "text/plain": [
       "Date         datetime64[ns]\n",
       "Open                float64\n",
       "High                float64\n",
       "Low                 float64\n",
       "Close               float64\n",
       "Adj Close           float64\n",
       "Volume                int64\n",
       "dtype: object"
      ]
     },
     "execution_count": 9,
     "metadata": {},
     "output_type": "execute_result"
    }
   ],
   "source": [
    "data_set.dtypes"
   ]
  },
  {
   "cell_type": "markdown",
   "id": "3b82889b-c572-4aa6-92f8-f8107103693f",
   "metadata": {},
   "source": [
    "###"
   ]
  },
  {
   "cell_type": "markdown",
   "id": "2b41a51a-cec4-4b3a-8139-a2dacc91bffe",
   "metadata": {},
   "source": [
    "### Date Column "
   ]
  },
  {
   "cell_type": "code",
   "execution_count": 10,
   "id": "840ccdb4-d716-448b-a502-9257cfbda08e",
   "metadata": {},
   "outputs": [],
   "source": [
    "#creating separate column for day , month and year \n",
    "data_set[\"Day\"]=data_set[\"Date\"].dt.day\n",
    "data_set[\"Month\"]=data_set[\"Date\"].dt.month\n",
    "data_set[\"Year\"]=data_set[\"Date\"].dt.year"
   ]
  },
  {
   "cell_type": "code",
   "execution_count": 11,
   "id": "26a99100-1cd4-4f9c-83b5-c6d3adc577f0",
   "metadata": {},
   "outputs": [
    {
     "data": {
      "text/html": [
       "<div>\n",
       "<style scoped>\n",
       "    .dataframe tbody tr th:only-of-type {\n",
       "        vertical-align: middle;\n",
       "    }\n",
       "\n",
       "    .dataframe tbody tr th {\n",
       "        vertical-align: top;\n",
       "    }\n",
       "\n",
       "    .dataframe thead th {\n",
       "        text-align: right;\n",
       "    }\n",
       "</style>\n",
       "<table border=\"1\" class=\"dataframe\">\n",
       "  <thead>\n",
       "    <tr style=\"text-align: right;\">\n",
       "      <th></th>\n",
       "      <th>Date</th>\n",
       "      <th>Open</th>\n",
       "      <th>High</th>\n",
       "      <th>Low</th>\n",
       "      <th>Close</th>\n",
       "      <th>Adj Close</th>\n",
       "      <th>Volume</th>\n",
       "      <th>Day</th>\n",
       "      <th>Month</th>\n",
       "      <th>Year</th>\n",
       "    </tr>\n",
       "  </thead>\n",
       "  <tbody>\n",
       "    <tr>\n",
       "      <th>0</th>\n",
       "      <td>2018-02-05</td>\n",
       "      <td>262.000000</td>\n",
       "      <td>267.899994</td>\n",
       "      <td>250.029999</td>\n",
       "      <td>254.259995</td>\n",
       "      <td>254.259995</td>\n",
       "      <td>11896100</td>\n",
       "      <td>5</td>\n",
       "      <td>2</td>\n",
       "      <td>2018</td>\n",
       "    </tr>\n",
       "    <tr>\n",
       "      <th>1</th>\n",
       "      <td>2018-02-06</td>\n",
       "      <td>247.699997</td>\n",
       "      <td>266.700012</td>\n",
       "      <td>245.000000</td>\n",
       "      <td>265.720001</td>\n",
       "      <td>265.720001</td>\n",
       "      <td>12595800</td>\n",
       "      <td>6</td>\n",
       "      <td>2</td>\n",
       "      <td>2018</td>\n",
       "    </tr>\n",
       "    <tr>\n",
       "      <th>2</th>\n",
       "      <td>2018-02-07</td>\n",
       "      <td>266.579987</td>\n",
       "      <td>272.450012</td>\n",
       "      <td>264.329987</td>\n",
       "      <td>264.559998</td>\n",
       "      <td>264.559998</td>\n",
       "      <td>8981500</td>\n",
       "      <td>7</td>\n",
       "      <td>2</td>\n",
       "      <td>2018</td>\n",
       "    </tr>\n",
       "    <tr>\n",
       "      <th>3</th>\n",
       "      <td>2018-02-08</td>\n",
       "      <td>267.079987</td>\n",
       "      <td>267.619995</td>\n",
       "      <td>250.000000</td>\n",
       "      <td>250.100006</td>\n",
       "      <td>250.100006</td>\n",
       "      <td>9306700</td>\n",
       "      <td>8</td>\n",
       "      <td>2</td>\n",
       "      <td>2018</td>\n",
       "    </tr>\n",
       "    <tr>\n",
       "      <th>4</th>\n",
       "      <td>2018-02-09</td>\n",
       "      <td>253.850006</td>\n",
       "      <td>255.800003</td>\n",
       "      <td>236.110001</td>\n",
       "      <td>249.470001</td>\n",
       "      <td>249.470001</td>\n",
       "      <td>16906900</td>\n",
       "      <td>9</td>\n",
       "      <td>2</td>\n",
       "      <td>2018</td>\n",
       "    </tr>\n",
       "  </tbody>\n",
       "</table>\n",
       "</div>"
      ],
      "text/plain": [
       "        Date        Open        High         Low       Close   Adj Close  \\\n",
       "0 2018-02-05  262.000000  267.899994  250.029999  254.259995  254.259995   \n",
       "1 2018-02-06  247.699997  266.700012  245.000000  265.720001  265.720001   \n",
       "2 2018-02-07  266.579987  272.450012  264.329987  264.559998  264.559998   \n",
       "3 2018-02-08  267.079987  267.619995  250.000000  250.100006  250.100006   \n",
       "4 2018-02-09  253.850006  255.800003  236.110001  249.470001  249.470001   \n",
       "\n",
       "     Volume  Day  Month  Year  \n",
       "0  11896100    5      2  2018  \n",
       "1  12595800    6      2  2018  \n",
       "2   8981500    7      2  2018  \n",
       "3   9306700    8      2  2018  \n",
       "4  16906900    9      2  2018  "
      ]
     },
     "execution_count": 11,
     "metadata": {},
     "output_type": "execute_result"
    }
   ],
   "source": [
    "data_set.head()"
   ]
  },
  {
   "cell_type": "markdown",
   "id": "4d1d5051-b0e5-4ead-8fb4-84742e2574e5",
   "metadata": {},
   "source": [
    "#####"
   ]
  },
  {
   "cell_type": "code",
   "execution_count": 12,
   "id": "89b4e1c2-538a-4e2c-bea0-294ffad9366a",
   "metadata": {},
   "outputs": [],
   "source": [
    "#After creating separate columns for date then removing the date column using drop() function\n",
    "data_set.drop(\"Date\",axis=1,inplace=True)"
   ]
  },
  {
   "cell_type": "code",
   "execution_count": 13,
   "id": "0d88629b-5f78-47e8-8657-6df726e903da",
   "metadata": {},
   "outputs": [
    {
     "data": {
      "text/html": [
       "<div>\n",
       "<style scoped>\n",
       "    .dataframe tbody tr th:only-of-type {\n",
       "        vertical-align: middle;\n",
       "    }\n",
       "\n",
       "    .dataframe tbody tr th {\n",
       "        vertical-align: top;\n",
       "    }\n",
       "\n",
       "    .dataframe thead th {\n",
       "        text-align: right;\n",
       "    }\n",
       "</style>\n",
       "<table border=\"1\" class=\"dataframe\">\n",
       "  <thead>\n",
       "    <tr style=\"text-align: right;\">\n",
       "      <th></th>\n",
       "      <th>Open</th>\n",
       "      <th>High</th>\n",
       "      <th>Low</th>\n",
       "      <th>Close</th>\n",
       "      <th>Adj Close</th>\n",
       "      <th>Volume</th>\n",
       "      <th>Day</th>\n",
       "      <th>Month</th>\n",
       "      <th>Year</th>\n",
       "    </tr>\n",
       "  </thead>\n",
       "  <tbody>\n",
       "    <tr>\n",
       "      <th>0</th>\n",
       "      <td>262.000000</td>\n",
       "      <td>267.899994</td>\n",
       "      <td>250.029999</td>\n",
       "      <td>254.259995</td>\n",
       "      <td>254.259995</td>\n",
       "      <td>11896100</td>\n",
       "      <td>5</td>\n",
       "      <td>2</td>\n",
       "      <td>2018</td>\n",
       "    </tr>\n",
       "    <tr>\n",
       "      <th>1</th>\n",
       "      <td>247.699997</td>\n",
       "      <td>266.700012</td>\n",
       "      <td>245.000000</td>\n",
       "      <td>265.720001</td>\n",
       "      <td>265.720001</td>\n",
       "      <td>12595800</td>\n",
       "      <td>6</td>\n",
       "      <td>2</td>\n",
       "      <td>2018</td>\n",
       "    </tr>\n",
       "    <tr>\n",
       "      <th>2</th>\n",
       "      <td>266.579987</td>\n",
       "      <td>272.450012</td>\n",
       "      <td>264.329987</td>\n",
       "      <td>264.559998</td>\n",
       "      <td>264.559998</td>\n",
       "      <td>8981500</td>\n",
       "      <td>7</td>\n",
       "      <td>2</td>\n",
       "      <td>2018</td>\n",
       "    </tr>\n",
       "    <tr>\n",
       "      <th>3</th>\n",
       "      <td>267.079987</td>\n",
       "      <td>267.619995</td>\n",
       "      <td>250.000000</td>\n",
       "      <td>250.100006</td>\n",
       "      <td>250.100006</td>\n",
       "      <td>9306700</td>\n",
       "      <td>8</td>\n",
       "      <td>2</td>\n",
       "      <td>2018</td>\n",
       "    </tr>\n",
       "    <tr>\n",
       "      <th>4</th>\n",
       "      <td>253.850006</td>\n",
       "      <td>255.800003</td>\n",
       "      <td>236.110001</td>\n",
       "      <td>249.470001</td>\n",
       "      <td>249.470001</td>\n",
       "      <td>16906900</td>\n",
       "      <td>9</td>\n",
       "      <td>2</td>\n",
       "      <td>2018</td>\n",
       "    </tr>\n",
       "  </tbody>\n",
       "</table>\n",
       "</div>"
      ],
      "text/plain": [
       "         Open        High         Low       Close   Adj Close    Volume  Day  \\\n",
       "0  262.000000  267.899994  250.029999  254.259995  254.259995  11896100    5   \n",
       "1  247.699997  266.700012  245.000000  265.720001  265.720001  12595800    6   \n",
       "2  266.579987  272.450012  264.329987  264.559998  264.559998   8981500    7   \n",
       "3  267.079987  267.619995  250.000000  250.100006  250.100006   9306700    8   \n",
       "4  253.850006  255.800003  236.110001  249.470001  249.470001  16906900    9   \n",
       "\n",
       "   Month  Year  \n",
       "0      2  2018  \n",
       "1      2  2018  \n",
       "2      2  2018  \n",
       "3      2  2018  \n",
       "4      2  2018  "
      ]
     },
     "execution_count": 13,
     "metadata": {},
     "output_type": "execute_result"
    }
   ],
   "source": [
    "data_set.head()"
   ]
  },
  {
   "cell_type": "markdown",
   "id": "8d779c2b-9a40-4e9f-a491-d929da908938",
   "metadata": {},
   "source": [
    "##"
   ]
  },
  {
   "cell_type": "markdown",
   "id": "ab6156ab-a916-480f-bd6d-a11ace1ec14c",
   "metadata": {},
   "source": [
    "## CHECKING & HANDLING OUTLIERS"
   ]
  },
  {
   "cell_type": "markdown",
   "id": "1a687a79-a6da-452b-839f-f7006883c75a",
   "metadata": {},
   "source": [
    "####"
   ]
  },
  {
   "cell_type": "code",
   "execution_count": 14,
   "id": "53633b28-e520-4865-9935-1d28a3d49c2c",
   "metadata": {},
   "outputs": [
    {
     "data": {
      "image/png": "[encoded data removed]",
      "text/plain": [
       "<Figure size 1500x600 with 6 Axes>"
      ]
     },
     "metadata": {},
     "output_type": "display_data"
    }
   ],
   "source": [
    "#Creating 6 subplot for ploting boxplot\n",
    "plt.figure( figsize = (15,6))\n",
    "\n",
    "#Subplot 1 for Open column\n",
    "plt.subplot(2,3,1)\n",
    "data_set[\"Open\"].plot(kind=\"box\")\n",
    "\n",
    "#subplot 2 for Close Column\n",
    "plt.subplot(2,3,2)\n",
    "data_set[\"Close\"].plot(kind=\"box\")\n",
    "\n",
    "#subplot 3 for High Column\n",
    "plt.subplot(2,3,3)\n",
    "data_set[\"High\"].plot(kind=\"box\")\n",
    "\n",
    "#subplot 4 for Low Column\n",
    "plt.subplot(2,3,4)\n",
    "data_set[\"Low\"].plot(kind=\"box\")\n",
    "\n",
    "#subplot 5 for Adj Close column\n",
    "plt.subplot(2,3,5)\n",
    "data_set[\"Adj Close\"].plot(kind=\"box\")\n",
    "\n",
    "#subplot 6 for Volume Column\n",
    "plt.subplot(2,3,6)\n",
    "data_set[\"Volume\"].plot(kind=\"box\")\n",
    "\n",
    "plt.tight_layout()\n",
    "plt.show()"
   ]
  },
  {
   "cell_type": "markdown",
   "id": "fc28bfc2-64b5-4caf-a512-a60400482bff",
   "metadata": {},
   "source": [
    "#"
   ]
  },
  {
   "cell_type": "markdown",
   "id": "647c33b4-677f-4947-b39e-a59ae3de16fc",
   "metadata": {},
   "source": [
    "#### HANDLING OUTLIERS IN VOLUME COLUMN"
   ]
  },
  {
   "cell_type": "code",
   "execution_count": 15,
   "id": "2cb3ce72-046d-4482-816a-ff93f706a5c5",
   "metadata": {},
   "outputs": [
    {
     "data": {
      "text/plain": [
       "<Axes: >"
      ]
     },
     "execution_count": 15,
     "metadata": {},
     "output_type": "execute_result"
    },
    {
     "data": {
      "image/png": "[encoded data removed]",
      "text/plain": [
       "<Figure size 640x480 with 1 Axes>"
      ]
     },
     "metadata": {},
     "output_type": "display_data"
    }
   ],
   "source": [
    "#Plotting the Volume column \n",
    "data_set[\"Volume\"].plot(kind='box')"
   ]
  },
  {
   "cell_type": "markdown",
   "id": "533238be-06a3-4af3-b0c4-4ba6847c5fff",
   "metadata": {},
   "source": [
    "#####"
   ]
  },
  {
   "cell_type": "code",
   "execution_count": 16,
   "id": "80ef2f6f-c785-4b7e-9ef1-97734fa25ccd",
   "metadata": {},
   "outputs": [],
   "source": [
    "#Calculating IQR and replace outliers values with upper and lower limit values\n",
    "Q1=data_set['Volume'].quantile(0.25)\n",
    "Q3=data_set['Volume'].quantile(0.75)\n",
    "IQR=Q3-Q1\n",
    "lower_limit=Q1-(1.5*IQR)\n",
    "upper_limit=Q3+(1.5*IQR)"
   ]
  },
  {
   "cell_type": "markdown",
   "id": "96d25bf4-f2bd-4dc9-b0b1-4821d43c997a",
   "metadata": {},
   "source": [
    "######"
   ]
  },
  {
   "cell_type": "code",
   "execution_count": 17,
   "id": "2bb49a9c-bb22-41ac-bd71-a280c4ae52cf",
   "metadata": {},
   "outputs": [],
   "source": [
    "#Replacing the outliers values\n",
    "data_set.loc[(data_set['Volume']>upper_limit),'Volume']=upper_limit\n",
    "\n",
    "data_set.loc[(data_set['Volume']<lower_limit),'Volume']=lower_limit"
   ]
  },
  {
   "cell_type": "markdown",
   "id": "916e8628-4838-42a9-8d07-46ebdb93fe72",
   "metadata": {},
   "source": [
    "#####"
   ]
  },
  {
   "cell_type": "code",
   "execution_count": 18,
   "id": "076518fd-f5ef-42fc-bbce-26b8a4909318",
   "metadata": {},
   "outputs": [
    {
     "data": {
      "text/plain": [
       "<Axes: >"
      ]
     },
     "execution_count": 18,
     "metadata": {},
     "output_type": "execute_result"
    },
    {
     "data": {
      "image/png": "[encoded data removed]",
      "text/plain": [
       "<Figure size 640x480 with 1 Axes>"
      ]
     },
     "metadata": {},
     "output_type": "display_data"
    }
   ],
   "source": [
    "data_set['Volume'].plot(kind='box')"
   ]
  },
  {
   "cell_type": "markdown",
   "id": "4dc1d654-4b89-4e1d-bb96-4c29f6bc47fd",
   "metadata": {},
   "source": [
    "#####"
   ]
  },
  {
   "cell_type": "markdown",
   "id": "edcdc44e-2266-423a-afe3-211a7eb3c463",
   "metadata": {},
   "source": [
    "## 4. CREATING ML MODEL USING LINEAR REGRESSION"
   ]
  },
  {
   "cell_type": "markdown",
   "id": "6cde0469-120f-44cf-a3ae-22e9b60b2fb5",
   "metadata": {},
   "source": [
    "####"
   ]
  },
  {
   "cell_type": "code",
   "execution_count": 19,
   "id": "2341f52f-14c6-4547-bf6d-1df61f1f36e3",
   "metadata": {},
   "outputs": [
    {
     "name": "stdout",
     "output_type": "stream",
     "text": [
      "['Open', 'High', 'Low', 'Close', 'Adj Close', 'Volume', 'Day', 'Month', 'Year'] \n",
      "\n",
      "['Open', 'High', 'Low', 'Adj Close', 'Volume', 'Day', 'Month', 'Year', 'Close'] \n",
      "\n"
     ]
    },
    {
     "data": {
      "text/html": [
       "<div>\n",
       "<style scoped>\n",
       "    .dataframe tbody tr th:only-of-type {\n",
       "        vertical-align: middle;\n",
       "    }\n",
       "\n",
       "    .dataframe tbody tr th {\n",
       "        vertical-align: top;\n",
       "    }\n",
       "\n",
       "    .dataframe thead th {\n",
       "        text-align: right;\n",
       "    }\n",
       "</style>\n",
       "<table border=\"1\" class=\"dataframe\">\n",
       "  <thead>\n",
       "    <tr style=\"text-align: right;\">\n",
       "      <th></th>\n",
       "      <th>Open</th>\n",
       "      <th>High</th>\n",
       "      <th>Low</th>\n",
       "      <th>Adj Close</th>\n",
       "      <th>Volume</th>\n",
       "      <th>Day</th>\n",
       "      <th>Month</th>\n",
       "      <th>Year</th>\n",
       "      <th>Close</th>\n",
       "    </tr>\n",
       "  </thead>\n",
       "  <tbody>\n",
       "    <tr>\n",
       "      <th>0</th>\n",
       "      <td>262.000000</td>\n",
       "      <td>267.899994</td>\n",
       "      <td>250.029999</td>\n",
       "      <td>254.259995</td>\n",
       "      <td>11896100</td>\n",
       "      <td>5</td>\n",
       "      <td>2</td>\n",
       "      <td>2018</td>\n",
       "      <td>254.259995</td>\n",
       "    </tr>\n",
       "    <tr>\n",
       "      <th>1</th>\n",
       "      <td>247.699997</td>\n",
       "      <td>266.700012</td>\n",
       "      <td>245.000000</td>\n",
       "      <td>265.720001</td>\n",
       "      <td>12595800</td>\n",
       "      <td>6</td>\n",
       "      <td>2</td>\n",
       "      <td>2018</td>\n",
       "      <td>265.720001</td>\n",
       "    </tr>\n",
       "    <tr>\n",
       "      <th>2</th>\n",
       "      <td>266.579987</td>\n",
       "      <td>272.450012</td>\n",
       "      <td>264.329987</td>\n",
       "      <td>264.559998</td>\n",
       "      <td>8981500</td>\n",
       "      <td>7</td>\n",
       "      <td>2</td>\n",
       "      <td>2018</td>\n",
       "      <td>264.559998</td>\n",
       "    </tr>\n",
       "    <tr>\n",
       "      <th>3</th>\n",
       "      <td>267.079987</td>\n",
       "      <td>267.619995</td>\n",
       "      <td>250.000000</td>\n",
       "      <td>250.100006</td>\n",
       "      <td>9306700</td>\n",
       "      <td>8</td>\n",
       "      <td>2</td>\n",
       "      <td>2018</td>\n",
       "      <td>250.100006</td>\n",
       "    </tr>\n",
       "    <tr>\n",
       "      <th>4</th>\n",
       "      <td>253.850006</td>\n",
       "      <td>255.800003</td>\n",
       "      <td>236.110001</td>\n",
       "      <td>249.470001</td>\n",
       "      <td>16906900</td>\n",
       "      <td>9</td>\n",
       "      <td>2</td>\n",
       "      <td>2018</td>\n",
       "      <td>249.470001</td>\n",
       "    </tr>\n",
       "  </tbody>\n",
       "</table>\n",
       "</div>"
      ],
      "text/plain": [
       "         Open        High         Low   Adj Close    Volume  Day  Month  Year  \\\n",
       "0  262.000000  267.899994  250.029999  254.259995  11896100    5      2  2018   \n",
       "1  247.699997  266.700012  245.000000  265.720001  12595800    6      2  2018   \n",
       "2  266.579987  272.450012  264.329987  264.559998   8981500    7      2  2018   \n",
       "3  267.079987  267.619995  250.000000  250.100006   9306700    8      2  2018   \n",
       "4  253.850006  255.800003  236.110001  249.470001  16906900    9      2  2018   \n",
       "\n",
       "        Close  \n",
       "0  254.259995  \n",
       "1  265.720001  \n",
       "2  264.559998  \n",
       "3  250.100006  \n",
       "4  249.470001  "
      ]
     },
     "execution_count": 19,
     "metadata": {},
     "output_type": "execute_result"
    }
   ],
   "source": [
    "#Changing the predicting Close column to the end of the data_set\n",
    "col_list = data_set.columns.to_list()\n",
    "print(col_list,\"\\n\")\n",
    "\n",
    "t_list = col_list[:3] + col_list[4:] \n",
    "t_list.append(col_list[3])\n",
    "print(t_list,'\\n')\n",
    "\n",
    "data_set = data_set.reindex(columns = t_list)\n",
    "data_set.head()"
   ]
  },
  {
   "cell_type": "markdown",
   "id": "ff1c9d9c-0436-40b9-97dc-32b01cd6417b",
   "metadata": {},
   "source": [
    "#####"
   ]
  },
  {
   "cell_type": "markdown",
   "id": "65ea92ae-6b16-4557-b955-1e38f2fcd043",
   "metadata": {},
   "source": [
    "### NORMALIZING THE DATA_SET \n"
   ]
  },
  {
   "cell_type": "markdown",
   "id": "0a00fdfe-a84f-477f-a59b-4c3dd3bd8286",
   "metadata": {},
   "source": [
    "#####"
   ]
  },
  {
   "cell_type": "code",
   "execution_count": 20,
   "id": "cf947cec-d7b0-4171-9538-87c73f73e083",
   "metadata": {},
   "outputs": [
    {
     "data": {
      "text/plain": [
       "array([-1.44777164, -1.4414654 , -1.51014126, -1.52204669,  1.11600932,\n",
       "       -1.22417332, -1.32500464, -1.38099829, -1.52204669])"
      ]
     },
     "execution_count": 20,
     "metadata": {},
     "output_type": "execute_result"
    }
   ],
   "source": [
    "#from Scikit-learn importing StandardScaler for normalizing the data_set \n",
    "from sklearn.preprocessing import StandardScaler\n",
    "\n",
    "scaler = StandardScaler()\n",
    "data_set=scaler.fit_transform(data_set)\n",
    "data_set[0]"
   ]
  },
  {
   "cell_type": "markdown",
   "id": "c80cb253-3865-402a-855f-7bb77918ba1b",
   "metadata": {},
   "source": [
    "#####"
   ]
  },
  {
   "cell_type": "markdown",
   "id": "60ada962-da5d-40ce-84eb-f7eb6208b972",
   "metadata": {},
   "source": [
    "#### SPLITTING THE DATA_SET "
   ]
  },
  {
   "cell_type": "markdown",
   "id": "3b7a18f7-fced-4700-b4e3-09324a34f428",
   "metadata": {},
   "source": [
    "#####"
   ]
  },
  {
   "cell_type": "code",
   "execution_count": 21,
   "id": "cce33fbe-f065-469a-bd6a-7ac557de9af8",
   "metadata": {},
   "outputs": [
    {
     "name": "stdout",
     "output_type": "stream",
     "text": [
      "(807, 8)\n",
      "(202, 8)\n",
      "(807,)\n",
      "(202,)\n"
     ]
    }
   ],
   "source": [
    "#from Scikit learn importing train_test_split class for splitting of data_set\n",
    "from sklearn.model_selection import train_test_split as tts\n",
    "\n",
    "#X_set contains all the columns except Close Column\n",
    "x_set = data_set[:,:-1]\n",
    "\n",
    "#y_set contain the close column \n",
    "y_set = data_set[:,-1]\n",
    "\n",
    "#Splitting the data_Set as 80% for traning and rest 20% for testing\n",
    "x_train,x_test,y_train,y_test = tts(x_set,y_set,test_size = 0.2,random_state = 89)\n",
    "\n",
    "print(x_train.shape)\n",
    "print(x_test.shape)\n",
    "print(y_train.shape)\n",
    "print(y_test.shape)"
   ]
  },
  {
   "cell_type": "markdown",
   "id": "7082a320-7c09-4dc1-945c-cf784e2669c3",
   "metadata": {},
   "source": [
    "####"
   ]
  },
  {
   "cell_type": "markdown",
   "id": "11d3c3ed-cc51-42e2-b996-091fbf8e16ad",
   "metadata": {},
   "source": [
    "#### TRAINING THE LINEAR REGRESSION MODEL"
   ]
  },
  {
   "cell_type": "markdown",
   "id": "ccb62228-b9f9-443f-a94d-c87560d7b650",
   "metadata": {},
   "source": [
    "#####"
   ]
  },
  {
   "cell_type": "code",
   "execution_count": 22,
   "id": "ac4e6102-42ec-4e48-b6f5-a9cf3b2cc6ea",
   "metadata": {},
   "outputs": [
    {
     "data": {
      "text/html": [
       "<style>#sk-container-id-1 {color: black;background-color: white;}#sk-container-id-1 pre{padding: 0;}#sk-container-id-1 div.sk-toggleable {background-color: white;}#sk-container-id-1 label.sk-toggleable__label {cursor: pointer;display: block;width: 100%;margin-bottom: 0;padding: 0.3em;box-sizing: border-box;text-align: center;}#sk-container-id-1 label.sk-toggleable__label-arrow:before {content: \"▸\";float: left;margin-right: 0.25em;color: #696969;}#sk-container-id-1 label.sk-toggleable__label-arrow:hover:before {color: black;}#sk-container-id-1 div.sk-estimator:hover label.sk-toggleable__label-arrow:before {color: black;}#sk-container-id-1 div.sk-toggleable__content {max-height: 0;max-width: 0;overflow: hidden;text-align: left;background-color: #f0f8ff;}#sk-container-id-1 div.sk-toggleable__content pre {margin: 0.2em;color: black;border-radius: 0.25em;background-color: #f0f8ff;}#sk-container-id-1 input.sk-toggleable__control:checked~div.sk-toggleable__content {max-height: 200px;max-width: 100%;overflow: auto;}#sk-container-id-1 input.sk-toggleable__control:checked~label.sk-toggleable__label-arrow:before {content: \"▾\";}#sk-container-id-1 div.sk-estimator input.sk-toggleable__control:checked~label.sk-toggleable__label {background-color: #d4ebff;}#sk-container-id-1 div.sk-label input.sk-toggleable__control:checked~label.sk-toggleable__label {background-color: #d4ebff;}#sk-container-id-1 input.sk-hidden--visually {border: 0;clip: rect(1px 1px 1px 1px);clip: rect(1px, 1px, 1px, 1px);height: 1px;margin: -1px;overflow: hidden;padding: 0;position: absolute;width: 1px;}#sk-container-id-1 div.sk-estimator {font-family: monospace;background-color: #f0f8ff;border: 1px dotted black;border-radius: 0.25em;box-sizing: border-box;margin-bottom: 0.5em;}#sk-container-id-1 div.sk-estimator:hover {background-color: #d4ebff;}#sk-container-id-1 div.sk-parallel-item::after {content: \"\";width: 100%;border-bottom: 1px solid gray;flex-grow: 1;}#sk-container-id-1 div.sk-label:hover label.sk-toggleable__label {background-color: #d4ebff;}#sk-container-id-1 div.sk-serial::before {content: \"\";position: absolute;border-left: 1px solid gray;box-sizing: border-box;top: 0;bottom: 0;left: 50%;z-index: 0;}#sk-container-id-1 div.sk-serial {display: flex;flex-direction: column;align-items: center;background-color: white;padding-right: 0.2em;padding-left: 0.2em;position: relative;}#sk-container-id-1 div.sk-item {position: relative;z-index: 1;}#sk-container-id-1 div.sk-parallel {display: flex;align-items: stretch;justify-content: center;background-color: white;position: relative;}#sk-container-id-1 div.sk-item::before, #sk-container-id-1 div.sk-parallel-item::before {content: \"\";position: absolute;border-left: 1px solid gray;box-sizing: border-box;top: 0;bottom: 0;left: 50%;z-index: -1;}#sk-container-id-1 div.sk-parallel-item {display: flex;flex-direction: column;z-index: 1;position: relative;background-color: white;}#sk-container-id-1 div.sk-parallel-item:first-child::after {align-self: flex-end;width: 50%;}#sk-container-id-1 div.sk-parallel-item:last-child::after {align-self: flex-start;width: 50%;}#sk-container-id-1 div.sk-parallel-item:only-child::after {width: 0;}#sk-container-id-1 div.sk-dashed-wrapped {border: 1px dashed gray;margin: 0 0.4em 0.5em 0.4em;box-sizing: border-box;padding-bottom: 0.4em;background-color: white;}#sk-container-id-1 div.sk-label label {font-family: monospace;font-weight: bold;display: inline-block;line-height: 1.2em;}#sk-container-id-1 div.sk-label-container {text-align: center;}#sk-container-id-1 div.sk-container {/* jupyter's `normalize.less` sets `[hidden] { display: none; }` but bootstrap.min.css set `[hidden] { display: none !important; }` so we also need the `!important` here to be able to override the default hidden behavior on the sphinx rendered scikit-learn.org. See: https://github.com/scikit-learn/scikit-learn/issues/21755 */display: inline-block !important;position: relative;}#sk-container-id-1 div.sk-text-repr-fallback {display: none;}</style><div id=\"sk-container-id-1\" class=\"sk-top-container\"><div class=\"sk-text-repr-fallback\"><pre>LinearRegression()</pre><b>In a Jupyter environment, please rerun this cell to show the HTML representation or trust the notebook. <br />On GitHub, the HTML representation is unable to render, please try loading this page with nbviewer.org.</b></div><div class=\"sk-container\" hidden><div class=\"sk-item\"><div class=\"sk-estimator sk-toggleable\"><input class=\"sk-toggleable__control sk-hidden--visually\" id=\"sk-estimator-id-1\" type=\"checkbox\" checked><label for=\"sk-estimator-id-1\" class=\"sk-toggleable__label sk-toggleable__label-arrow\">LinearRegression</label><div class=\"sk-toggleable__content\"><pre>LinearRegression()</pre></div></div></div></div></div>"
      ],
      "text/plain": [
       "LinearRegression()"
      ]
     },
     "execution_count": 22,
     "metadata": {},
     "output_type": "execute_result"
    }
   ],
   "source": [
    "#from Scikit learn importing LInearRegression Class for Creating and training the model using train data_set\n",
    "from sklearn.linear_model import LinearRegression\n",
    "\n",
    "model = LinearRegression()\n",
    "\n",
    "#Model is trained using the train data_set\n",
    "model.fit(x_train,y_train)"
   ]
  },
  {
   "cell_type": "markdown",
   "id": "b5c9add9-faff-471d-80ba-9194e2bc024f",
   "metadata": {},
   "source": [
    "#####"
   ]
  },
  {
   "cell_type": "markdown",
   "id": "47fdc53b-2644-4c01-881d-485e7697f43d",
   "metadata": {},
   "source": [
    "#### CALCULATING RMSE AND R-SQUARED VALUE"
   ]
  },
  {
   "cell_type": "markdown",
   "id": "fcd7e2d8-1de7-40c5-9793-6ade06d09c57",
   "metadata": {},
   "source": [
    "#####"
   ]
  },
  {
   "cell_type": "code",
   "execution_count": 23,
   "id": "d46a7b34-023f-48a7-afe6-e18fe1961759",
   "metadata": {},
   "outputs": [],
   "source": [
    "#from Scikit learn importing mean_sqaured_error and r2_score classes\n",
    "from sklearn.metrics import mean_squared_error , r2_score\n",
    "\n",
    "#creating a method \"metrics\" for calculating RMSE and r-sqaured\n",
    "def metrics(y_true,y_pred):\n",
    "    print(\"RMSE :\",mean_squared_error(y_true,y_pred)**0.5)\n",
    "    print(\"R- SQUARED :\",r2_score(y_true,y_pred))\n",
    "\n",
    "#creating a method to find the accuracy\n",
    "def accuracy(y_true,y_pred):\n",
    "    error = abs(y_true - y_pred)\n",
    "    #Calculating Mean Absolute Percentage Error\n",
    "    mape = 100 * np.mean(error/y_true)\n",
    "    accuracy = 100 - mape\n",
    "    print(\"Accuracy:\",accuracy)"
   ]
  },
  {
   "cell_type": "markdown",
   "id": "6841cabd-1307-4b5f-87ba-22e01e92f30c",
   "metadata": {},
   "source": [
    "#####"
   ]
  },
  {
   "cell_type": "markdown",
   "id": "3a0acf9f-b927-4cf3-afbe-36c45a5dd5ab",
   "metadata": {},
   "source": [
    "#### TESTING AND EVALUATION"
   ]
  },
  {
   "cell_type": "markdown",
   "id": "834e252a-dbb2-4a2e-a231-e6ce62504db0",
   "metadata": {},
   "source": [
    "#####"
   ]
  },
  {
   "cell_type": "code",
   "execution_count": 24,
   "id": "633aadf1-c00c-48ed-bba2-f980925f0709",
   "metadata": {},
   "outputs": [
    {
     "name": "stdout",
     "output_type": "stream",
     "text": [
      "RMSE : 8.438574114764424e-16\n",
      "R- SQUARED : 1.0\n",
      "Accuracy: 100.00000000000001\n"
     ]
    }
   ],
   "source": [
    "#testing the model using the test data_set\n",
    "y_pred = model.predict(x_test)\n",
    "\n",
    "#calling metrics method for RMSE and r-squared\n",
    "metrics(y_test,y_pred)\n",
    "#Calling accuracy method for the accuracy\n",
    "accuracy(y_test,y_pred)"
   ]
  },
  {
   "cell_type": "markdown",
   "id": "1bef5595-26b9-43f5-8603-1d414180c71c",
   "metadata": {},
   "source": [
    "#####"
   ]
  }
 ],
 "metadata": {
  "kernelspec": {
   "display_name": "Python 3 (ipykernel)",
   "language": "python",
   "name": "python3"
  },
  "language_info": {
   "codemirror_mode": {
    "name": "ipython",
    "version": 3
   },
   "file_extension": ".py",
   "mimetype": "text/x-python",
   "name": "python",
   "nbconvert_exporter": "python",
   "pygments_lexer": "ipython3",
   "version": "3.11.7"
  }
 },
 "nbformat": 4,
 "nbformat_minor": 5
}
